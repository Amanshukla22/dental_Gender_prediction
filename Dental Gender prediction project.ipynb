{
 "cells": [
  {
   "cell_type": "markdown",
   "id": "e244ad3b-07e7-4d0d-b9c1-c9bb24625d52",
   "metadata": {},
   "source": [
    "##  DENTAL METRICS GENDER PREDICTION PROJECT"
   ]
  },
  {
   "cell_type": "markdown",
   "id": "8ffd2f86-b2ea-4bef-bfb7-a67437646830",
   "metadata": {},
   "source": [
    "##### Project Objective:\n",
    "##### The goal of this project is to analyze dental measurement data and predict gender (Male/Female).\n",
    "##### This is useful in forensic medicine where gender identification is required using dental metrics.\n"
   ]
  },
  {
   "cell_type": "markdown",
   "id": "0b5bb65a-fb71-4785-982a-848e5b5a7aab",
   "metadata": {},
   "source": [
    "#### Project Workflow:\n",
    "#### 1. Data Collection & Preprocessing\n",
    "#### 2. Exploratory Data Analysis (EDA)\n",
    "#### 3. Feature Engineering & Selection\n",
    "#### 4. Model Training (Logistic Regression, Decision Tree, Random Forest, XGBoost)\n",
    "#### 5. Model Evaluation & Comparison\n",
    "#### 7. Insights & Conclusion"
   ]
  },
  {
   "cell_type": "markdown",
   "id": "40a83b60-3619-4818-b71b-cec0829728ae",
   "metadata": {},
   "source": [
    "##### Dataset Information:\n",
    "##### - Target Variable: Gender (Male/Female)\n",
    "##### Independent Variables: Dental measurements (e.g., inter-canine distance, right & left canine casts)\n",
    "##### Unique Identifiers: SampleID, SL No. (to be removed)\n"
   ]
  },
  {
   "cell_type": "code",
   "execution_count": null,
   "id": "9f64c7f2-1140-478f-a105-d43146440bec",
   "metadata": {},
   "outputs": [],
   "source": []
  },
  {
   "cell_type": "code",
   "execution_count": null,
   "id": "9b802d2e-9612-406a-bb09-476da635fccf",
   "metadata": {},
   "outputs": [],
   "source": []
  },
  {
   "cell_type": "markdown",
   "id": "bf8e4ce5-7912-4ec3-9821-b08cc8c82878",
   "metadata": {},
   "source": [
    "###  importing libraries"
   ]
  },
  {
   "cell_type": "code",
   "execution_count": 3,
   "id": "17f4888f-e3b0-4914-871e-442886dcca4e",
   "metadata": {},
   "outputs": [],
   "source": [
    "import pandas as pd  # For handling dataset\n",
    "import numpy as np  # For numeric operations\n",
    "import matplotlib.pyplot as plt  # For visualizations\n",
    "import seaborn as sns  \n",
    "\n",
    "from sklearn.preprocessing import LabelEncoder, Normalizer  # For encoding & normalization\n",
    "from sklearn.model_selection import train_test_split  # For splitting data\n",
    "from sklearn.linear_model import LogisticRegression  # ML Model\n",
    "from sklearn.tree import DecisionTreeClassifier  # ML Model\n",
    "from sklearn.ensemble import RandomForestClassifier  # ML Model\n",
    "from xgboost import XGBClassifier  # ML Model\n",
    "\n",
    "from sklearn.metrics import accuracy_score, classification_report, confusion_matrix, roc_curve, auc  # For model evaluation\n",
    "import joblib  # for saving the model\n"
   ]
  },
  {
   "cell_type": "markdown",
   "id": "fbcb8c00-0865-4513-9660-2b0eb31adc8d",
   "metadata": {},
   "source": [
    "### load dataset"
   ]
  },
  {
   "cell_type": "code",
   "execution_count": 15,
   "id": "f56a8554-89db-4693-b3c1-27b3820ff167",
   "metadata": {},
   "outputs": [],
   "source": [
    "df = pd.read_csv(r\"C:\\Users\\Aman\\Downloads\\Dentistry Dataset.csv\") \n"
   ]
  },
  {
   "cell_type": "code",
   "execution_count": 16,
   "id": "90bc59d5-3da4-4337-90bd-ab2df8694cc6",
   "metadata": {},
   "outputs": [
    {
     "data": {
      "text/html": [
       "<div>\n",
       "<style scoped>\n",
       "    .dataframe tbody tr th:only-of-type {\n",
       "        vertical-align: middle;\n",
       "    }\n",
       "\n",
       "    .dataframe tbody tr th {\n",
       "        vertical-align: top;\n",
       "    }\n",
       "\n",
       "    .dataframe thead th {\n",
       "        text-align: right;\n",
       "    }\n",
       "</style>\n",
       "<table border=\"1\" class=\"dataframe\">\n",
       "  <thead>\n",
       "    <tr style=\"text-align: right;\">\n",
       "      <th></th>\n",
       "      <th>Sl No</th>\n",
       "      <th>Sample ID</th>\n",
       "      <th>Age</th>\n",
       "      <th>Gender</th>\n",
       "      <th>inter canine distance intraoral</th>\n",
       "      <th>intercanine distance casts</th>\n",
       "      <th>right canine width intraoral</th>\n",
       "      <th>right canine width casts</th>\n",
       "      <th>left canine width intraoral</th>\n",
       "      <th>left canine width casts</th>\n",
       "      <th>right canine index intra oral</th>\n",
       "      <th>right canine index casts</th>\n",
       "      <th>left canine index intraoral</th>\n",
       "      <th>left canine index casts</th>\n",
       "    </tr>\n",
       "  </thead>\n",
       "  <tbody>\n",
       "    <tr>\n",
       "      <th>0</th>\n",
       "      <td>1</td>\n",
       "      <td>NaN</td>\n",
       "      <td>24</td>\n",
       "      <td>Female</td>\n",
       "      <td>25.06</td>\n",
       "      <td>25.05</td>\n",
       "      <td>6.08</td>\n",
       "      <td>6.08</td>\n",
       "      <td>6.09</td>\n",
       "      <td>6.10</td>\n",
       "      <td>0.242</td>\n",
       "      <td>0.242</td>\n",
       "      <td>0.242</td>\n",
       "      <td>0.241</td>\n",
       "    </tr>\n",
       "    <tr>\n",
       "      <th>1</th>\n",
       "      <td>2</td>\n",
       "      <td>NaN</td>\n",
       "      <td>22</td>\n",
       "      <td>Female</td>\n",
       "      <td>25.78</td>\n",
       "      <td>25.79</td>\n",
       "      <td>6.13</td>\n",
       "      <td>6.13</td>\n",
       "      <td>6.33</td>\n",
       "      <td>6.33</td>\n",
       "      <td>0.237</td>\n",
       "      <td>0.237</td>\n",
       "      <td>0.247</td>\n",
       "      <td>0.247</td>\n",
       "    </tr>\n",
       "    <tr>\n",
       "      <th>2</th>\n",
       "      <td>3</td>\n",
       "      <td>NaN</td>\n",
       "      <td>23</td>\n",
       "      <td>Female</td>\n",
       "      <td>23.83</td>\n",
       "      <td>23.83</td>\n",
       "      <td>5.91</td>\n",
       "      <td>5.96</td>\n",
       "      <td>6.28</td>\n",
       "      <td>6.28</td>\n",
       "      <td>0.248</td>\n",
       "      <td>0.248</td>\n",
       "      <td>0.264</td>\n",
       "      <td>0.264</td>\n",
       "    </tr>\n",
       "    <tr>\n",
       "      <th>3</th>\n",
       "      <td>4</td>\n",
       "      <td>NaN</td>\n",
       "      <td>20</td>\n",
       "      <td>Female</td>\n",
       "      <td>26.12</td>\n",
       "      <td>26.12</td>\n",
       "      <td>6.08</td>\n",
       "      <td>6.08</td>\n",
       "      <td>6.56</td>\n",
       "      <td>6.56</td>\n",
       "      <td>0.232</td>\n",
       "      <td>0.232</td>\n",
       "      <td>0.250</td>\n",
       "      <td>0.250</td>\n",
       "    </tr>\n",
       "    <tr>\n",
       "      <th>4</th>\n",
       "      <td>5</td>\n",
       "      <td>NaN</td>\n",
       "      <td>20</td>\n",
       "      <td>Female</td>\n",
       "      <td>26.36</td>\n",
       "      <td>26.41</td>\n",
       "      <td>6.09</td>\n",
       "      <td>6.09</td>\n",
       "      <td>6.50</td>\n",
       "      <td>6.50</td>\n",
       "      <td>0.231</td>\n",
       "      <td>0.231</td>\n",
       "      <td>0.246</td>\n",
       "      <td>0.246</td>\n",
       "    </tr>\n",
       "  </tbody>\n",
       "</table>\n",
       "</div>"
      ],
      "text/plain": [
       "   Sl No  Sample ID  Age  Gender  inter canine distance intraoral  \\\n",
       "0      1        NaN   24  Female                            25.06   \n",
       "1      2        NaN   22  Female                            25.78   \n",
       "2      3        NaN   23  Female                            23.83   \n",
       "3      4        NaN   20  Female                            26.12   \n",
       "4      5        NaN   20  Female                            26.36   \n",
       "\n",
       "   intercanine distance casts  right canine width intraoral  \\\n",
       "0                       25.05                          6.08   \n",
       "1                       25.79                          6.13   \n",
       "2                       23.83                          5.91   \n",
       "3                       26.12                          6.08   \n",
       "4                       26.41                          6.09   \n",
       "\n",
       "   right canine width casts  left canine width intraoral  \\\n",
       "0                      6.08                         6.09   \n",
       "1                      6.13                         6.33   \n",
       "2                      5.96                         6.28   \n",
       "3                      6.08                         6.56   \n",
       "4                      6.09                         6.50   \n",
       "\n",
       "   left canine width casts  right canine index intra oral  \\\n",
       "0                     6.10                          0.242   \n",
       "1                     6.33                          0.237   \n",
       "2                     6.28                          0.248   \n",
       "3                     6.56                          0.232   \n",
       "4                     6.50                          0.231   \n",
       "\n",
       "   right canine index casts  left canine index intraoral  \\\n",
       "0                     0.242                        0.242   \n",
       "1                     0.237                        0.247   \n",
       "2                     0.248                        0.264   \n",
       "3                     0.232                        0.250   \n",
       "4                     0.231                        0.246   \n",
       "\n",
       "   left canine index casts  \n",
       "0                    0.241  \n",
       "1                    0.247  \n",
       "2                    0.264  \n",
       "3                    0.250  \n",
       "4                    0.246  "
      ]
     },
     "execution_count": 16,
     "metadata": {},
     "output_type": "execute_result"
    }
   ],
   "source": [
    "df.head()  # display 5 rows"
   ]
  },
  {
   "cell_type": "code",
   "execution_count": 17,
   "id": "229f98cd-17e6-494b-8ab8-1479ac9f4db7",
   "metadata": {},
   "outputs": [
    {
     "data": {
      "text/plain": [
       "(1100, 14)"
      ]
     },
     "execution_count": 17,
     "metadata": {},
     "output_type": "execute_result"
    }
   ],
   "source": [
    "df.shape  # display how many columns or rows "
   ]
  },
  {
   "cell_type": "code",
   "execution_count": 18,
   "id": "cee3f6a7-41a6-4d91-8d14-81255ed41d40",
   "metadata": {},
   "outputs": [
    {
     "name": "stdout",
     "output_type": "stream",
     "text": [
      "<class 'pandas.core.frame.DataFrame'>\n",
      "RangeIndex: 1100 entries, 0 to 1099\n",
      "Data columns (total 14 columns):\n",
      " #   Column                           Non-Null Count  Dtype  \n",
      "---  ------                           --------------  -----  \n",
      " 0   Sl No                            1100 non-null   int64  \n",
      " 1   Sample ID                        0 non-null      float64\n",
      " 2   Age                              1100 non-null   int64  \n",
      " 3   Gender                           1100 non-null   object \n",
      " 4   inter canine distance intraoral  1100 non-null   float64\n",
      " 5   intercanine distance casts       1100 non-null   float64\n",
      " 6   right canine width intraoral     1100 non-null   float64\n",
      " 7   right canine width casts         1100 non-null   float64\n",
      " 8   left canine width intraoral      1100 non-null   float64\n",
      " 9   left canine width casts          1100 non-null   float64\n",
      " 10  right canine index intra oral    1100 non-null   float64\n",
      " 11  right canine index casts         1100 non-null   float64\n",
      " 12  left canine index intraoral      1100 non-null   float64\n",
      " 13  left canine index casts          1100 non-null   float64\n",
      "dtypes: float64(11), int64(2), object(1)\n",
      "memory usage: 120.4+ KB\n"
     ]
    }
   ],
   "source": [
    "df.info()"
   ]
  },
  {
   "cell_type": "code",
   "execution_count": null,
   "id": "bc47ca3b-b47c-4a44-b9f0-63478140cd64",
   "metadata": {},
   "outputs": [],
   "source": []
  },
  {
   "cell_type": "markdown",
   "id": "25b53429-f47a-40a2-884d-baa46754c5c5",
   "metadata": {},
   "source": [
    "### data preprocessing"
   ]
  },
  {
   "cell_type": "code",
   "execution_count": 19,
   "id": "49fdcedc-b31b-40c1-9927-09500249bea0",
   "metadata": {},
   "outputs": [
    {
     "data": {
      "text/plain": [
       "Sl No                                 0\n",
       "Sample ID                          1100\n",
       "Age                                   0\n",
       "Gender                                0\n",
       "inter canine distance intraoral       0\n",
       "intercanine distance casts            0\n",
       "right canine width intraoral          0\n",
       "right canine width casts              0\n",
       "left canine width intraoral           0\n",
       "left canine width casts               0\n",
       "right canine index intra oral         0\n",
       "right canine index casts              0\n",
       "left canine index intraoral           0\n",
       "left canine index casts               0\n",
       "dtype: int64"
      ]
     },
     "execution_count": 19,
     "metadata": {},
     "output_type": "execute_result"
    }
   ],
   "source": [
    "df.isnull().sum() # display all columns null values"
   ]
  },
  {
   "cell_type": "code",
   "execution_count": null,
   "id": "80f9f688-090a-440c-ac9c-7edae13b1032",
   "metadata": {},
   "outputs": [],
   "source": []
  },
  {
   "cell_type": "code",
   "execution_count": 21,
   "id": "105a25d3-d233-400e-a5d9-edc11dd85e6a",
   "metadata": {},
   "outputs": [
    {
     "data": {
      "text/plain": [
       "0"
      ]
     },
     "execution_count": 21,
     "metadata": {},
     "output_type": "execute_result"
    }
   ],
   "source": [
    "df.duplicated().sum() # display this table exist duplicates"
   ]
  },
  {
   "cell_type": "code",
   "execution_count": null,
   "id": "8613989a-0bcb-4998-a0c7-1a51d4f295c2",
   "metadata": {},
   "outputs": [],
   "source": []
  },
  {
   "cell_type": "markdown",
   "id": "d6138138-8d64-44d1-94fb-2c88adc42d23",
   "metadata": {},
   "source": [
    "#### feature selection"
   ]
  },
  {
   "cell_type": "code",
   "execution_count": 22,
   "id": "5991f0d8-b747-460c-bf20-c3a61542915f",
   "metadata": {},
   "outputs": [],
   "source": [
    "df = df.drop(columns=['Sample ID'])  # drop (sample id) column"
   ]
  },
  {
   "cell_type": "code",
   "execution_count": null,
   "id": "a1aec411-9d42-489e-93c2-d7b6b371c74f",
   "metadata": {},
   "outputs": [],
   "source": []
  },
  {
   "cell_type": "code",
   "execution_count": 24,
   "id": "2d090923-084f-4d42-bbf1-6ff8ad24424d",
   "metadata": {},
   "outputs": [],
   "source": [
    "df = df.drop(columns=['Sl No']) # drop (Sl No) column when not use in prediction"
   ]
  },
  {
   "cell_type": "code",
   "execution_count": null,
   "id": "21c2b830-6151-4993-a501-70f8001abac5",
   "metadata": {},
   "outputs": [],
   "source": []
  },
  {
   "cell_type": "markdown",
   "id": "094c1615-1f9e-4240-8621-7842eb98b864",
   "metadata": {},
   "source": [
    "##### encoding categorical variable"
   ]
  },
  {
   "cell_type": "code",
   "execution_count": 26,
   "id": "e5c6c030-bfec-4ede-8dbf-2fe4f2006152",
   "metadata": {},
   "outputs": [],
   "source": [
    "# Encoding the Gender column (Male = 1, Female = 0)\n",
    "LE = LabelEncoder()\n",
    "df['Gender'] = LE.fit_transform(df['Gender'])"
   ]
  },
  {
   "cell_type": "code",
   "execution_count": null,
   "id": "5c8195ca-0e14-48da-89d2-c59a0120647f",
   "metadata": {},
   "outputs": [],
   "source": []
  },
  {
   "cell_type": "code",
   "execution_count": 27,
   "id": "dda8c9b9-ab64-4b01-877d-762649108fbc",
   "metadata": {},
   "outputs": [
    {
     "name": "stdout",
     "output_type": "stream",
     "text": [
      "[0 1]\n"
     ]
    }
   ],
   "source": [
    "print(df['Gender'].unique())  # check successfully transform  show [0 - 1]"
   ]
  },
  {
   "cell_type": "code",
   "execution_count": 33,
   "id": "c2e368be-b0f7-44e6-812f-98a4ee00a86d",
   "metadata": {},
   "outputs": [
    {
     "data": {
      "text/html": [
       "<div>\n",
       "<style scoped>\n",
       "    .dataframe tbody tr th:only-of-type {\n",
       "        vertical-align: middle;\n",
       "    }\n",
       "\n",
       "    .dataframe tbody tr th {\n",
       "        vertical-align: top;\n",
       "    }\n",
       "\n",
       "    .dataframe thead th {\n",
       "        text-align: right;\n",
       "    }\n",
       "</style>\n",
       "<table border=\"1\" class=\"dataframe\">\n",
       "  <thead>\n",
       "    <tr style=\"text-align: right;\">\n",
       "      <th></th>\n",
       "      <th>Age</th>\n",
       "      <th>Gender</th>\n",
       "      <th>inter canine distance intraoral</th>\n",
       "      <th>intercanine distance casts</th>\n",
       "      <th>right canine width intraoral</th>\n",
       "      <th>right canine width casts</th>\n",
       "      <th>left canine width intraoral</th>\n",
       "      <th>left canine width casts</th>\n",
       "      <th>right canine index intra oral</th>\n",
       "      <th>right canine index casts</th>\n",
       "      <th>left canine index intraoral</th>\n",
       "      <th>left canine index casts</th>\n",
       "    </tr>\n",
       "  </thead>\n",
       "  <tbody>\n",
       "    <tr>\n",
       "      <th>0</th>\n",
       "      <td>24</td>\n",
       "      <td>0</td>\n",
       "      <td>25.06</td>\n",
       "      <td>25.05</td>\n",
       "      <td>6.08</td>\n",
       "      <td>6.08</td>\n",
       "      <td>6.09</td>\n",
       "      <td>6.10</td>\n",
       "      <td>0.242</td>\n",
       "      <td>0.242</td>\n",
       "      <td>0.242</td>\n",
       "      <td>0.241</td>\n",
       "    </tr>\n",
       "    <tr>\n",
       "      <th>815</th>\n",
       "      <td>24</td>\n",
       "      <td>1</td>\n",
       "      <td>27.08</td>\n",
       "      <td>27.08</td>\n",
       "      <td>7.08</td>\n",
       "      <td>7.08</td>\n",
       "      <td>7.09</td>\n",
       "      <td>7.09</td>\n",
       "      <td>0.262</td>\n",
       "      <td>0.262</td>\n",
       "      <td>0.261</td>\n",
       "      <td>0.262</td>\n",
       "    </tr>\n",
       "    <tr>\n",
       "      <th>1086</th>\n",
       "      <td>22</td>\n",
       "      <td>1</td>\n",
       "      <td>24.54</td>\n",
       "      <td>24.54</td>\n",
       "      <td>6.39</td>\n",
       "      <td>6.39</td>\n",
       "      <td>6.73</td>\n",
       "      <td>6.73</td>\n",
       "      <td>0.260</td>\n",
       "      <td>0.260</td>\n",
       "      <td>0.274</td>\n",
       "      <td>0.274</td>\n",
       "    </tr>\n",
       "    <tr>\n",
       "      <th>491</th>\n",
       "      <td>21</td>\n",
       "      <td>0</td>\n",
       "      <td>26.92</td>\n",
       "      <td>26.92</td>\n",
       "      <td>6.67</td>\n",
       "      <td>6.67</td>\n",
       "      <td>6.67</td>\n",
       "      <td>6.67</td>\n",
       "      <td>0.248</td>\n",
       "      <td>0.248</td>\n",
       "      <td>0.248</td>\n",
       "      <td>0.248</td>\n",
       "    </tr>\n",
       "    <tr>\n",
       "      <th>271</th>\n",
       "      <td>22</td>\n",
       "      <td>0</td>\n",
       "      <td>25.85</td>\n",
       "      <td>25.85</td>\n",
       "      <td>6.25</td>\n",
       "      <td>6.25</td>\n",
       "      <td>6.52</td>\n",
       "      <td>6.52</td>\n",
       "      <td>0.241</td>\n",
       "      <td>0.241</td>\n",
       "      <td>0.251</td>\n",
       "      <td>0.251</td>\n",
       "    </tr>\n",
       "  </tbody>\n",
       "</table>\n",
       "</div>"
      ],
      "text/plain": [
       "      Age  Gender  inter canine distance intraoral  \\\n",
       "0      24       0                            25.06   \n",
       "815    24       1                            27.08   \n",
       "1086   22       1                            24.54   \n",
       "491    21       0                            26.92   \n",
       "271    22       0                            25.85   \n",
       "\n",
       "      intercanine distance casts  right canine width intraoral  \\\n",
       "0                          25.05                          6.08   \n",
       "815                        27.08                          7.08   \n",
       "1086                       24.54                          6.39   \n",
       "491                        26.92                          6.67   \n",
       "271                        25.85                          6.25   \n",
       "\n",
       "      right canine width casts  left canine width intraoral  \\\n",
       "0                         6.08                         6.09   \n",
       "815                       7.08                         7.09   \n",
       "1086                      6.39                         6.73   \n",
       "491                       6.67                         6.67   \n",
       "271                       6.25                         6.52   \n",
       "\n",
       "      left canine width casts  right canine index intra oral  \\\n",
       "0                        6.10                          0.242   \n",
       "815                      7.09                          0.262   \n",
       "1086                     6.73                          0.260   \n",
       "491                      6.67                          0.248   \n",
       "271                      6.52                          0.241   \n",
       "\n",
       "      right canine index casts  left canine index intraoral  \\\n",
       "0                        0.242                        0.242   \n",
       "815                      0.262                        0.261   \n",
       "1086                     0.260                        0.274   \n",
       "491                      0.248                        0.248   \n",
       "271                      0.241                        0.251   \n",
       "\n",
       "      left canine index casts  \n",
       "0                       0.241  \n",
       "815                     0.262  \n",
       "1086                    0.274  \n",
       "491                     0.248  \n",
       "271                     0.251  "
      ]
     },
     "execution_count": 33,
     "metadata": {},
     "output_type": "execute_result"
    }
   ],
   "source": [
    "df.sample(5)"
   ]
  },
  {
   "cell_type": "code",
   "execution_count": null,
   "id": "4c8b183b-7370-41ce-a177-4859973f2f5c",
   "metadata": {},
   "outputs": [],
   "source": []
  },
  {
   "cell_type": "markdown",
   "id": "0fc162e3-b2de-489e-adcd-7d93d4ec3ab3",
   "metadata": {},
   "source": [
    "#### Splitting independent (X) and dependent (Y) variables\n"
   ]
  },
  {
   "cell_type": "code",
   "execution_count": 31,
   "id": "610ecd32-89b9-4e83-9ba6-888a02af392c",
   "metadata": {},
   "outputs": [],
   "source": [
    "X = df.drop(columns=['Gender'])  # features\n",
    "Y = df['Gender']  # target variable\n"
   ]
  },
  {
   "cell_type": "code",
   "execution_count": 32,
   "id": "68363225-b12c-4b02-9247-f2eb897298f9",
   "metadata": {},
   "outputs": [
    {
     "name": "stdout",
     "output_type": "stream",
     "text": [
      "Shape of X (Features): (1100, 11)\n",
      "Shape of Y (Target): (1100,)\n"
     ]
    }
   ],
   "source": [
    "# Confirm the shapes of X and Y\n",
    "print(\"Shape of X (Features):\", X.shape)\n",
    "print(\"Shape of Y (Target):\", Y.shape)\n"
   ]
  },
  {
   "cell_type": "code",
   "execution_count": null,
   "id": "bce52828-98a2-4f7a-a025-74aee38df0a3",
   "metadata": {},
   "outputs": [],
   "source": []
  },
  {
   "cell_type": "markdown",
   "id": "b57d4460-2ef6-4157-b330-2e3b8aeb8f1a",
   "metadata": {},
   "source": [
    "#### Normalize the X Variable"
   ]
  },
  {
   "cell_type": "code",
   "execution_count": 35,
   "id": "db85edb4-4587-40bb-a54a-9bd6f5685e01",
   "metadata": {},
   "outputs": [],
   "source": [
    "# Normalize the feature variables (X)\n",
    "normalizer = Normalizer()\n",
    "X = normalizer.fit_transform(X)"
   ]
  },
  {
   "cell_type": "code",
   "execution_count": 36,
   "id": "0c729db2-7482-420f-b6c2-fd8fa6b7c2f4",
   "metadata": {},
   "outputs": [
    {
     "name": "stdout",
     "output_type": "stream",
     "text": [
      "\n",
      "First 5 rows after Normalization:\n",
      "[[0.53936387 0.56318578 0.56296104 0.13663885 0.13663885 0.13686358\n",
      "  0.13708832 0.00543859 0.00543859 0.00543859 0.00541611]\n",
      " [0.49575982 0.58094037 0.58116571 0.13813671 0.13813671 0.14264362\n",
      "  0.14264362 0.00534069 0.00534069 0.00556603 0.00556603]\n",
      " [0.53997057 0.55945646 0.55945646 0.13874896 0.13992281 0.14743544\n",
      "  0.14743544 0.00582229 0.00582229 0.00619792 0.00619792]\n",
      " [0.45587292 0.59537004 0.59537004 0.13858537 0.13858537 0.14952632\n",
      "  0.14952632 0.00528813 0.00528813 0.00569841 0.00569841]\n",
      " [0.45276669 0.59674649 0.59787841 0.13786746 0.13786746 0.14714917\n",
      "  0.14714917 0.00522946 0.00522946 0.00556903 0.00556903]]\n"
     ]
    }
   ],
   "source": [
    "# Confirm normalization\n",
    "print(\"\\nFirst 5 rows after Normalization:\")\n",
    "print(X[:5])  # Display  5 rows"
   ]
  },
  {
   "cell_type": "code",
   "execution_count": null,
   "id": "86352ba5-113e-4df9-a671-4112acb2647b",
   "metadata": {},
   "outputs": [],
   "source": []
  },
  {
   "cell_type": "code",
   "execution_count": null,
   "id": "0350ae62-0321-4865-b2a5-c55ef6f44281",
   "metadata": {},
   "outputs": [],
   "source": []
  },
  {
   "cell_type": "markdown",
   "id": "0b20c72a-a7d9-493b-9cab-d65caa081c09",
   "metadata": {},
   "source": [
    "### Exploratory Data Analysis (EDA)"
   ]
  },
  {
   "cell_type": "code",
   "execution_count": null,
   "id": "79febff2-0dbb-4b6d-a45b-27f142dbaaca",
   "metadata": {},
   "outputs": [],
   "source": [
    "# plot the heatmap"
   ]
  },
  {
   "cell_type": "code",
   "execution_count": 40,
   "id": "45217359-3050-41e1-8c63-6d606159a382",
   "metadata": {},
   "outputs": [
    {
     "data": {
      "image/png": "[encoded data removed]",
      "text/plain": [
       "<Figure size 1000x700 with 2 Axes>"
      ]
     },
     "metadata": {},
     "output_type": "display_data"
    }
   ],
   "source": [
    "# Create a correlation heatmap\n",
    "plt.figure(figsize=(10,7))\n",
    "sns.heatmap(pd.DataFrame(X).corr(), annot=True, cmap='coolwarm', fmt=\".2f\")\n",
    "plt.title(\"Feature Correlation Heatmap\")\n",
    "plt.show()"
   ]
  },
  {
   "cell_type": "markdown",
   "id": "56241289-5da7-4740-9d57-c3e2b81ef9dc",
   "metadata": {},
   "source": [
    "### the heatmap shows 3 highly correlated to column 4 (drop 4th number column)\n",
    "### column  6 correlated with column 5  (drop 6 number column)\n",
    "### and 7 correlated with 10  and 8 related with 9  (drop 8 or 9 number column)"
   ]
  },
  {
   "cell_type": "markdown",
   "id": "4481c83b-4007-4e48-b9a3-5aff7599bf96",
   "metadata": {},
   "source": []
  },
  {
   "cell_type": "code",
   "execution_count": 44,
   "id": "547b94f5-90ff-40f0-986e-07d4010139e9",
   "metadata": {},
   "outputs": [
    {
     "name": "stdout",
     "output_type": "stream",
     "text": [
      "   Age  Gender  inter canine distance intraoral  right canine width intraoral  \\\n",
      "0   24       0                            25.06                          6.08   \n",
      "1   22       0                            25.78                          6.13   \n",
      "2   23       0                            23.83                          5.91   \n",
      "3   20       0                            26.12                          6.08   \n",
      "4   20       0                            26.36                          6.09   \n",
      "\n",
      "   left canine width intraoral  right canine index casts  \\\n",
      "0                         6.09                     0.242   \n",
      "1                         6.33                     0.237   \n",
      "2                         6.28                     0.248   \n",
      "3                         6.56                     0.232   \n",
      "4                         6.50                     0.231   \n",
      "\n",
      "   left canine index intraoral  left canine index casts  \n",
      "0                        0.242                    0.241  \n",
      "1                        0.247                    0.247  \n",
      "2                        0.264                    0.264  \n",
      "3                        0.250                    0.250  \n",
      "4                        0.246                    0.246  \n"
     ]
    }
   ],
   "source": [
    "# Drop Highly Correlated Features\n",
    "df.drop(columns=['intercanine distance casts', 'right canine width casts', 'left canine width casts', 'right canine index intra oral'], inplace=True)\n",
    "\n",
    "# Verify the updated DataFrame\n",
    "print(df.head())\n"
   ]
  },
  {
   "cell_type": "code",
   "execution_count": 45,
   "id": "1728c032-fae9-403c-8062-195068fbea61",
   "metadata": {},
   "outputs": [
    {
     "data": {
      "text/plain": [
       "(1100, 8)"
      ]
     },
     "execution_count": 45,
     "metadata": {},
     "output_type": "execute_result"
    }
   ],
   "source": [
    "df.shape"
   ]
  },
  {
   "cell_type": "code",
   "execution_count": null,
   "id": "d71fa944-e228-461e-9950-9b405cb69b14",
   "metadata": {},
   "outputs": [],
   "source": []
  },
  {
   "cell_type": "markdown",
   "id": "db0da583-6fe9-4462-b750-5a4cf16dce2e",
   "metadata": {},
   "source": [
    "#### Split Data into Train & Test Sets (80-20 Ratio)"
   ]
  },
  {
   "cell_type": "code",
   "execution_count": null,
   "id": "f24b3d9d-fe60-4197-a00f-96c78a2d31b8",
   "metadata": {},
   "outputs": [],
   "source": []
  },
  {
   "cell_type": "code",
   "execution_count": 46,
   "id": "a70a82da-c154-4e43-ba21-55ba3043a871",
   "metadata": {},
   "outputs": [],
   "source": [
    "# Define Features (X) and Target (y)\n",
    "X = df.drop(columns=['Gender'])  # Independent Variables\n",
    "y = df['Gender']  # Target Variable\n",
    "\n",
    "# Split Data into Train & Test Sets\n",
    "X_train, X_test, y_train, y_test = train_test_split(X, y, test_size=0.2, random_state=42)"
   ]
  },
  {
   "cell_type": "code",
   "execution_count": null,
   "id": "f7bfadd5-9f37-4091-9429-3062107739d0",
   "metadata": {},
   "outputs": [],
   "source": []
  },
  {
   "cell_type": "code",
   "execution_count": 47,
   "id": "c6ecc7d9-df1e-4686-a705-36afec2d0d68",
   "metadata": {},
   "outputs": [
    {
     "name": "stdout",
     "output_type": "stream",
     "text": [
      "X_train Shape: (880, 7)\n",
      "X_test Shape: (220, 7)\n",
      "y_train Shape: (880,)\n",
      "y_test Shape: (220,)\n"
     ]
    }
   ],
   "source": [
    "# Confirm Shapes of Train & Test Data\n",
    "print(\"X_train Shape:\", X_train.shape)\n",
    "print(\"X_test Shape:\", X_test.shape)\n",
    "print(\"y_train Shape:\", y_train.shape)\n",
    "print(\"y_test Shape:\", y_test.shape)"
   ]
  },
  {
   "cell_type": "code",
   "execution_count": null,
   "id": "98b73a7f-cf72-4645-9e35-21d460771a53",
   "metadata": {},
   "outputs": [],
   "source": []
  },
  {
   "cell_type": "markdown",
   "id": "63cebd50-dc8b-432b-9e71-2beb4d75abea",
   "metadata": {},
   "source": [
    "### Train and Compare Models"
   ]
  },
  {
   "cell_type": "code",
   "execution_count": 48,
   "id": "f3d851eb-c6cc-45ea-9287-b01c09b17301",
   "metadata": {},
   "outputs": [
    {
     "name": "stdout",
     "output_type": "stream",
     "text": [
      "Logistic Regression Accuracy: 0.8091\n",
      "Decision Tree Accuracy: 0.8591\n",
      "Random Forest Accuracy: 0.9182\n",
      "XGBoost Accuracy: 0.8955\n",
      "\n",
      "🚀 Best Model: Random Forest with Accuracy 0.9182\n"
     ]
    },
    {
     "name": "stderr",
     "output_type": "stream",
     "text": [
      "C:\\Users\\AMAN\\anaconda3\\_conda.exe63\\Lib\\site-packages\\xgboost\\training.py:183: UserWarning: [00:21:01] WARNING: C:\\actions-runner\\_work\\xgboost\\xgboost\\src\\learner.cc:738: \n",
      "Parameters: { \"use_label_encoder\" } are not used.\n",
      "\n",
      "  bst.update(dtrain, iteration=i, fobj=obj)\n"
     ]
    }
   ],
   "source": [
    "# Define models\n",
    "models = {\n",
    "    \"Logistic Regression\": LogisticRegression(),\n",
    "    \"Decision Tree\": DecisionTreeClassifier(),\n",
    "    \"Random Forest\": RandomForestClassifier(n_estimators=100),\n",
    "    \"XGBoost\": XGBClassifier(use_label_encoder=False, eval_metric='mlogloss')\n",
    "}\n",
    "\n",
    "# Train and evaluate each model\n",
    "accuracy_results = {}\n",
    "\n",
    "for name, model in models.items():\n",
    "    model.fit(X_train, y_train)  # Train Model\n",
    "    y_pred = model.predict(X_test)  # Predictions\n",
    "    accuracy = accuracy_score(y_test, y_pred)  # Accuracy Calculation\n",
    "    accuracy_results[name] = accuracy\n",
    "    print(f\"{name} Accuracy: {accuracy:.4f}\")  # Print Accuracy\n",
    "\n",
    "# Find the Best Model\n",
    "best_model = max(accuracy_results, key=accuracy_results.get)\n",
    "print(f\"\\n🚀 Best Model: {best_model} with Accuracy {accuracy_results[best_model]:.4f}\")"
   ]
  },
  {
   "cell_type": "markdown",
   "id": "904f7eff-8c47-4ecb-a0ee-0bff1f097804",
   "metadata": {},
   "source": [
    "### 2 best Accuracy Random Forest Accuracy: 0.9182\n",
    "### XGBoost Accuracy: 0.8955"
   ]
  },
  {
   "cell_type": "code",
   "execution_count": null,
   "id": "6b350c2b-da5e-4ce7-b9a8-a1aed076a21c",
   "metadata": {},
   "outputs": [],
   "source": []
  },
  {
   "cell_type": "code",
   "execution_count": 49,
   "id": "dccea9f7-a5b2-4a9d-8325-f1dfe529f8f6",
   "metadata": {},
   "outputs": [
    {
     "name": "stdout",
     "output_type": "stream",
     "text": [
      "Random Forest Accuracy: 0.8909090909090909\n"
     ]
    }
   ],
   "source": [
    "# Trying different hyperparameters manually\n",
    "rf = RandomForestClassifier(n_estimators=200, max_depth=20, min_samples_split=5, min_samples_leaf=2, random_state=42)\n",
    "rf.fit(X_train, y_train)\n",
    "\n",
    "# Checking accuracy\n",
    "rf_accuracy = rf.score(X_test, y_test)\n",
    "print(\"Random Forest Accuracy:\", rf_accuracy)\n"
   ]
  },
  {
   "cell_type": "code",
   "execution_count": null,
   "id": "81bebf7d-ea55-48ee-873c-5bc05817ad81",
   "metadata": {},
   "outputs": [],
   "source": []
  },
  {
   "cell_type": "code",
   "execution_count": 50,
   "id": "049cc88d-e8d1-4928-8e3a-ae1e5a995229",
   "metadata": {},
   "outputs": [
    {
     "name": "stdout",
     "output_type": "stream",
     "text": [
      "XGBoost Accuracy: 0.8863636363636364\n"
     ]
    }
   ],
   "source": [
    "# Trying different hyperparameters manually\n",
    "xgb = XGBClassifier(n_estimators=200, max_depth=5, learning_rate=0.1, subsample=0.8, random_state=42)\n",
    "xgb.fit(X_train, y_train)\n",
    "\n",
    "# Checking accuracy\n",
    "xgb_accuracy = xgb.score(X_test, y_test)\n",
    "print(\"XGBoost Accuracy:\", xgb_accuracy)"
   ]
  },
  {
   "cell_type": "code",
   "execution_count": null,
   "id": "8c954c94-833c-405f-96ee-76bced223f20",
   "metadata": {},
   "outputs": [],
   "source": []
  },
  {
   "cell_type": "code",
   "execution_count": null,
   "id": "0d7a144b-dd5c-4e70-bbc5-e212700b2759",
   "metadata": {},
   "outputs": [],
   "source": []
  },
  {
   "cell_type": "code",
   "execution_count": 51,
   "id": "d9722d51-73e7-407a-b09e-e34e8df8e4bc",
   "metadata": {},
   "outputs": [
    {
     "name": "stdout",
     "output_type": "stream",
     "text": [
      "{0: 108, 1: 112}\n"
     ]
    }
   ],
   "source": [
    "unique, counts = np.unique(y_pred, return_counts=True)\n",
    "print(dict(zip(unique, counts)))  # 0 aur 1 ka count dekho\n"
   ]
  },
  {
   "cell_type": "code",
   "execution_count": null,
   "id": "9395a686-6940-4561-b4a4-3921a60dbcbb",
   "metadata": {},
   "outputs": [],
   "source": []
  },
  {
   "cell_type": "markdown",
   "id": "bc9f0996-cce1-48e2-95d4-d8c79c5aafc6",
   "metadata": {},
   "source": [
    "### use confusion matrix to shaow predicted and actual result"
   ]
  },
  {
   "cell_type": "code",
   "execution_count": 52,
   "id": "4c4b53d8-95d7-4ddd-8729-e0677a9ae0ce",
   "metadata": {},
   "outputs": [
    {
     "data": {
      "image/png": "[encoded data removed]",
      "text/plain": [
       "<Figure size 640x480 with 2 Axes>"
      ]
     },
     "metadata": {},
     "output_type": "display_data"
    }
   ],
   "source": [
    "cm = confusion_matrix(y_test, y_pred)  # y_pred jo tumne model se nikala hai\n",
    "sns.heatmap(cm, annot=True, fmt='d', cmap='Blues')\n",
    "plt.xlabel('Predicted')\n",
    "plt.ylabel('Actual')\n",
    "plt.title('Confusion Matrix')\n",
    "plt.show()"
   ]
  },
  {
   "cell_type": "code",
   "execution_count": null,
   "id": "559c5088-e9e4-48d2-805c-a278b48a1728",
   "metadata": {},
   "outputs": [],
   "source": []
  },
  {
   "cell_type": "markdown",
   "id": "cd2ed2ab-b4eb-4d3f-859a-11fd95ec496e",
   "metadata": {},
   "source": [
    "# conclusion of this dental gender prediction project is using random forest accuracy is best accuracy level [0.8909090909090909]"
   ]
  },
  {
   "cell_type": "code",
   "execution_count": null,
   "id": "20ad8eee-ff24-4dfa-9b3b-43b3546cb9d4",
   "metadata": {},
   "outputs": [],
   "source": []
  }
 ],
 "metadata": {
  "kernelspec": {
   "display_name": "Python 3 (ipykernel)",
   "language": "python",
   "name": "python3"
  },
  "language_info": {
   "codemirror_mode": {
    "name": "ipython",
    "version": 3
   },
   "file_extension": ".py",
   "mimetype": "text/x-python",
   "name": "python",
   "nbconvert_exporter": "python",
   "pygments_lexer": "ipython3",
   "version": "3.12.4"
  }
 },
 "nbformat": 4,
 "nbformat_minor": 5
}
